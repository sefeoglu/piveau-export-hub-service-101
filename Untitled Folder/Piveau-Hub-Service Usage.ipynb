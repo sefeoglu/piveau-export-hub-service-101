{
 "cells": [
  {
   "cell_type": "markdown",
   "id": "08d41547",
   "metadata": {},
   "source": [
    "## List of Services"
   ]
  },
  {
   "cell_type": "markdown",
   "id": "f987126c",
   "metadata": {},
   "source": [
    "## 1.) Services related to Catalogs"
   ]
  },
  {
   "cell_type": "code",
   "execution_count": null,
   "id": "cf4b88a8",
   "metadata": {},
   "outputs": [],
   "source": []
  },
  {
   "cell_type": "markdown",
   "id": "7cc8894c",
   "metadata": {},
   "source": [
    "## 2.) Services related to Datasets"
   ]
  },
  {
   "cell_type": "markdown",
   "id": "de570cf9",
   "metadata": {},
   "source": []
  },
  {
   "cell_type": "markdown",
   "id": "8bdaca95",
   "metadata": {},
   "source": [
    "## 3.) Services related to data"
   ]
  },
  {
   "cell_type": "code",
   "execution_count": null,
   "id": "bd57320c",
   "metadata": {},
   "outputs": [],
   "source": []
  }
 ],
 "metadata": {
  "kernelspec": {
   "display_name": "Python 3 (ipykernel)",
   "language": "python",
   "name": "python3"
  },
  "language_info": {
   "codemirror_mode": {
    "name": "ipython",
    "version": 3
   },
   "file_extension": ".py",
   "mimetype": "text/x-python",
   "name": "python",
   "nbconvert_exporter": "python",
   "pygments_lexer": "ipython3",
   "version": "3.10.9"
  }
 },
 "nbformat": 4,
 "nbformat_minor": 5
}
