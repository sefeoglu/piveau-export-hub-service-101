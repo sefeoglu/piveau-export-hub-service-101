{
 "cells": [
  {
   "cell_type": "markdown",
   "id": "c92f1c4c",
   "metadata": {},
   "source": [
    "# List of the services:\n"
   ]
  },
  {
   "cell_type": "markdown",
   "id": "04bdc754",
   "metadata": {},
   "source": [
    "* 1.) Get Datasets: http://localhost:8082/datasets\n",
    "* 2.) Get Dataset: http://localhost:8082/datasets/{datasetId}\n",
    "* 3.) Get Catalogues: http://localhost:8082/catalogues\n",
    "* 4.) Get Catalogue: http://localhost:8082/catalogues/{catalogueId}\n"
   ]
  },
  {
   "cell_type": "markdown",
   "id": "9d4ab1ae",
   "metadata": {},
   "source": [
    "## Lets call these services!"
   ]
  },
  {
   "cell_type": "markdown",
   "id": "e558f1ac",
   "metadata": {},
   "source": [
    "## Libraries"
   ]
  },
  {
   "cell_type": "code",
   "execution_count": 1,
   "id": "3993b897",
   "metadata": {},
   "outputs": [],
   "source": [
    "## import libraries\n",
    "import requests"
   ]
  },
  {
   "cell_type": "markdown",
   "id": "f987126c",
   "metadata": {},
   "source": [
    "### 1.) Get List of Datasets"
   ]
  },
  {
   "cell_type": "code",
   "execution_count": 2,
   "id": "cf4b88a8",
   "metadata": {},
   "outputs": [],
   "source": [
    "def get_datasets(base_url, service_name):\n",
    "    \"\"\" get the list of dataset ids from piveau hub service\n",
    "    Args:\n",
    "        base_url (str): the base url of the piveau hub service (e.g. http://localhost:8082)\n",
    "        service_name (str): the service name (e.g. datasets)\n",
    "    Returns: \n",
    "        response_json (dict): the json response from the service\n",
    "    \"\"\"\n",
    "    #send request to endpoint\n",
    "    base_url = base_url + \"/\" + service_name\n",
    "    \n",
    "    response = requests.get(base_url)\n",
    "    \n",
    "    response_json = response.json()\n",
    "\n",
    "    return response_json"
   ]
  },
  {
   "cell_type": "markdown",
   "id": "7cc8894c",
   "metadata": {},
   "source": [
    "### 2.) Get Specific Dataset"
   ]
  },
  {
   "cell_type": "code",
   "execution_count": 3,
   "id": "560a58cc",
   "metadata": {},
   "outputs": [],
   "source": [
    "def get_dataset(base_url, service_name, dataset_id):\n",
    "    \"\"\" get the dataset from piveau hub service\n",
    "    Args:\n",
    "        base_url (str): the base url of the piveau hub service (e.g. http://localhost:8082)\n",
    "        service_name (str): the service name (e.g. datasets)\n",
    "        dataset_id (str): the id of the dataset\n",
    "    Returns: \n",
    "        response_json (dict): the json response from the service\n",
    "    \"\"\"\n",
    "    #send request to endpoint\n",
    "    \n",
    "    base_url = base_url + \"/\" + service_name + \"/\" + dataset_id\n",
    "    response = requests.get(base_url)\n",
    "    \n",
    "    response_json = response.json()\n",
    "\n",
    "    return response_json"
   ]
  },
  {
   "cell_type": "markdown",
   "id": "8f8e56c9",
   "metadata": {},
   "source": [
    "## Dataset Access"
   ]
  },
  {
   "cell_type": "code",
   "execution_count": 4,
   "id": "a25567b0",
   "metadata": {},
   "outputs": [],
   "source": [
    "base_url = \"http://localhost:8082/\""
   ]
  },
  {
   "cell_type": "markdown",
   "id": "8bdaca95",
   "metadata": {},
   "source": [
    "## Example Usage"
   ]
  },
  {
   "cell_type": "markdown",
   "id": "777f0c94",
   "metadata": {},
   "source": [
    "###  1.  Get list of Dataset IDs"
   ]
  },
  {
   "cell_type": "code",
   "execution_count": 5,
   "id": "bd57320c",
   "metadata": {},
   "outputs": [],
   "source": [
    "## Get all the dataset ids from export hub\n",
    "# call  get_datasets(base_url, service_name) function. base_url is defined above and service_name = datasets\n",
    "service_name = \"datasets\"\n",
    "dataset_ids = get_datasets(base_url, service_name)"
   ]
  },
  {
   "cell_type": "code",
   "execution_count": 6,
   "id": "fd6c44b8",
   "metadata": {},
   "outputs": [
    {
     "name": "stdout",
     "output_type": "stream",
     "text": [
      "['https://piveau.io/set/data/urn-nbn-de-kobv-83-opus-10008', 'https://piveau.io/set/data/urn-nbn-de-kobv-83-opus-33865', 'https://piveau.io/set/data/https-depositonce-tu-berlin-de-handle-11303-18289', 'https://piveau.io/set/data/1477-9226', 'https://piveau.io/set/data/https-depositonce-tu-berlin-de-handle-11303-15733', 'https://piveau.io/set/data/urn-nbn-de-kobv-83-opus-32305', 'https://piveau.io/set/data/978-3-7983-3146-4', 'https://piveau.io/set/data/http-dx-doi-org-10-14279-depositonce-646', 'https://piveau.io/set/data/http-dx-doi-org-10-14279-depositonce-12722', 'https://piveau.io/set/data/1742-6588', 'https://piveau.io/set/data/http-dx-doi-org-10-14279-depositonce-6690']\n"
     ]
    }
   ],
   "source": [
    "# print list of dataset ids\n",
    "print(dataset_ids)"
   ]
  },
  {
   "cell_type": "markdown",
   "id": "8b50a117",
   "metadata": {},
   "source": [
    "### 2. Represent one of Dataset by using its ID.\n"
   ]
  },
  {
   "cell_type": "code",
   "execution_count": 7,
   "id": "21ffb208",
   "metadata": {},
   "outputs": [],
   "source": [
    "## use get_dataset(base_url, service_name, dataset_id) function. service_name= datasets,dataset_id can be used from one of dataset_ids\n",
    "# lets choose the first dataset id from dataset_ids\n",
    "dataset_id = dataset_ids[0]\n",
    "\n",
    "# remove prefix comming from piveau framework\n",
    "piveau_prefix = \"https://piveau.io/set/data/\"\n",
    "dataset_id = dataset_id.replace(piveau_prefix, \"\")\n",
    "\n",
    "## call get_dataset function\n",
    "dataset_info = get_dataset(base_url, service_name, dataset_id)\n"
   ]
  },
  {
   "cell_type": "code",
   "execution_count": 8,
   "id": "7c5cb73e",
   "metadata": {},
   "outputs": [
    {
     "data": {
      "text/plain": [
       "{'@graph': [{'@id': '_:b0',\n",
       "   'spdx:algorithm': {'@id': 'spdx:checksumAlgorithm_md5'},\n",
       "   'spdx:checksumValue': '5cd70e4cbd5b115c0ce5d9562a439310',\n",
       "   '@type': 'spdx:Checksum'},\n",
       "  {'@id': '_:b1', '@type': 'foaf:Person', 'foaf:name': 'Kleemann, Dietmar'},\n",
       "  {'@id': 'https://piveau.io/set/record/urn-nbn-de-kobv-83-opus-10008',\n",
       "   'spdx:checksum': {'@id': '_:b0'},\n",
       "   'dct:identifier': 'urn:nbn:de:kobv:83-opus-10008',\n",
       "   'dct:issued': {'@value': '2023-09-19T07:31:36Z',\n",
       "    '@type': 'http://www.w3.org/2001/XMLSchema#dateTime'},\n",
       "   'foaf:primaryTopic': {'@id': 'https://piveau.io/set/data/urn-nbn-de-kobv-83-opus-10008'},\n",
       "   'dct:creator': {'@id': 'http://piveau.io'},\n",
       "   'dct:modified': {'@value': '2023-09-19T07:31:36Z',\n",
       "    '@type': 'http://www.w3.org/2001/XMLSchema#dateTime'},\n",
       "   '@type': 'dcat:CatalogRecord'},\n",
       "  {'@id': 'https://piveau.io/set/data/urn-nbn-de-kobv-83-opus-10008',\n",
       "   'dct:description': 'Drehstromasynchron-Linearmotoren (DLM) werden kommerziell mit der kleinsten Synchrongeschwindigkeit von 3,0m/s angeboten. Die Stillstandskraft des DLM mit der kleinsten Baugröße liegt bei ca. 30N, so dass damit eine Glasschiebetür mit einer Masse bis 20kg angetrieben werden kann. Bei der üblichen Beharrungsgeschwindigkeit der Glasschiebetür von 0,5m/s sinkt der Wirkungsgrad auf 3 bis 3,5% ab. Bei der Geschwindigkeit von 1,5m/s beträgt er 8,5%. In der vorliegenden Arbeit wird untersucht, ob ein DLM mit einer Synchrongeschwindigkeit von 1,845m/s zu besseren Betriebseigenschaften bei der Anpassung an einen Schiebetürantrieb führt. Dafür ist bei Betrieb an einem 50Hz-Drehstromnetz eine Polteilung von 18,45mm mit Zahnbreiten von 3mm oder darunter erforderlich. Die Lösung besteht in einer neuen Bauweise, bei der die Zähne als Blechpakete in um 90° zum Jochblechpaket angeordnete 3 mm tiefe Nuten gepresst werden. Für den Funktionsnachweis wurde ein neunpoliger Linearmotor mit dem dafür entwickelten Programm DLMCALC berechnet, als Prototyp gebaut und dessen stationäre Kennlinien gemessen. Folgende Ergebnisse wurden erzielt: Die berechneten stationären Kennlinien der Schubkraft, des Stroms, des Wirkungsgrades und des Leistungsfaktors über der Geschwindigkeit wichen an einzelnen Punkten maximal um 4% von den Messwerten ab. Der zusätzliche Bedarf an magnetischer Durchflutung ist mit 1,2% marginal. Der optimierte DLM erreicht bei einem Schlupf von 0,5 einen Wirkungsgrad von 6,0%, bei der von 39 mm auf 49mm erhöhten Statorbreite 7,0%. Eine vergleichende Antriebsberechnung für eine Glasschiebetür zeigt, dass die Verluste des optimierten Prototyps kleiner sind als die des DLM mit der Synchrongeschwindigkeit von 3,0m/s. Die Arbeit enthält Hinweise für die Dimensionierung von DLM mit einer Synchrongeschwindigkeit von unter 2m/s.',\n",
       "   'dct:title': ['Investigation of steady operating quanteties of the three-phase asynchronous linearmotor for speeds less than 3m/s',\n",
       "    'Untersuchung stationärer Betriebsgrößen des Drehstromasynchron-Linearmotors für Synchrongeschwindigkeiten unter 3m/s'],\n",
       "   'dcat:keyword': ['Drehstromasynchron-Linearmotor',\n",
       "    'Synchrongeschwindigkeit 1,85m/s',\n",
       "    '620 Ingenieurwissenschaften und zugeordnete Tätigkeiten',\n",
       "    'Three-phase asynchronous linearmotor',\n",
       "    'Synchronous speed 1.85m/s',\n",
       "    'Dimensionierungshinweise',\n",
       "    'Quanteties',\n",
       "    'Proportioning',\n",
       "    'Stationäre Betriebsgrößen'],\n",
       "   'dct:rights': 'http://rightsstatements.org/vocab/InC/1.0/',\n",
       "   'dct:identifier': ['http://dx.doi.org/10.14279/depositonce-1103',\n",
       "    'https://depositonce.tu-berlin.de/handle/11303/1400',\n",
       "    'urn:nbn:de:kobv:83-opus-10008'],\n",
       "   'dct:language': ['de', 'German'],\n",
       "   'dct:creator': {'@id': '_:b1'},\n",
       "   'dct:type': ['publishedVersion', 'Doctoral Thesis'],\n",
       "   'dct:modified': '2015-11-20T16:19:03Z',\n",
       "   '@type': 'dcat:Dataset',\n",
       "   'dct:issued': '2005-01-19'}],\n",
       " '@context': {'spdx': 'http://spdx.org/rdf/terms#',\n",
       "  'dct': 'http://purl.org/dc/terms/',\n",
       "  'dcat': 'http://www.w3.org/ns/dcat#',\n",
       "  'foaf': 'http://xmlns.com/foaf/0.1/'}}"
      ]
     },
     "execution_count": 8,
     "metadata": {},
     "output_type": "execute_result"
    }
   ],
   "source": [
    "## print all the metadata about this specific dataset\n",
    "dataset_info"
   ]
  },
  {
   "cell_type": "code",
   "execution_count": null,
   "id": "62255292",
   "metadata": {},
   "outputs": [],
   "source": []
  },
  {
   "cell_type": "code",
   "execution_count": null,
   "id": "2723f2c1",
   "metadata": {},
   "outputs": [],
   "source": []
  }
 ],
 "metadata": {
  "kernelspec": {
   "display_name": "Python 3 (ipykernel)",
   "language": "python",
   "name": "python3"
  },
  "language_info": {
   "codemirror_mode": {
    "name": "ipython",
    "version": 3
   },
   "file_extension": ".py",
   "mimetype": "text/x-python",
   "name": "python",
   "nbconvert_exporter": "python",
   "pygments_lexer": "ipython3",
   "version": "3.10.9"
  }
 },
 "nbformat": 4,
 "nbformat_minor": 5
}
